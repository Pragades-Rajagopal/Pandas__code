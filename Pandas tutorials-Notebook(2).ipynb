{
 "nbformat": 4,
 "nbformat_minor": 2,
 "metadata": {
  "language_info": {
   "name": "python",
   "codemirror_mode": {
    "name": "ipython",
    "version": 3
   },
   "version": "3.7.4-final"
  },
  "orig_nbformat": 2,
  "file_extension": ".py",
  "mimetype": "text/x-python",
  "name": "python",
  "npconvert_exporter": "python",
  "pygments_lexer": "ipython3",
  "version": 3,
  "kernelspec": {
   "name": "python37432bitc7bfd4f7fe6b4a72ad34cf4e68e47bc5",
   "display_name": "Python 3.7.4 32-bit"
  }
 },
 "cells": [
  {
   "cell_type": "code",
   "execution_count": 1,
   "metadata": {},
   "outputs": [],
   "source": [
    "import pandas as pd"
   ]
  },
  {
   "cell_type": "code",
   "execution_count": 38,
   "metadata": {},
   "outputs": [],
   "source": [
    "d = pd.read_csv('survey_results_public.csv', index_col='Respondent')\n",
    "schema = pd.read_csv('survey_results_schema.csv', index_col='Column')"
   ]
  },
  {
   "cell_type": "code",
   "execution_count": 40,
   "metadata": {},
   "outputs": [],
   "source": [
    "pd.set_option('display.max_columns', 85)\n",
    "pd.set_option('display.max_rows', 85)"
   ]
  },
  {
   "cell_type": "code",
   "execution_count": 19,
   "metadata": {},
   "outputs": [
    {
     "data": {
      "text/html": "<div>\n<style scoped>\n    .dataframe tbody tr th:only-of-type {\n        vertical-align: middle;\n    }\n\n    .dataframe tbody tr th {\n        vertical-align: top;\n    }\n\n    .dataframe thead th {\n        text-align: right;\n    }\n</style>\n<table border=\"1\" class=\"dataframe\">\n  <thead>\n    <tr style=\"text-align: right;\">\n      <th></th>\n      <th>Country</th>\n      <th>SalaryUSD</th>\n    </tr>\n    <tr>\n      <th>Respondent</th>\n      <th></th>\n      <th></th>\n    </tr>\n  </thead>\n  <tbody>\n    <tr>\n      <th>63129</th>\n      <td>Afghanistan</td>\n      <td>1000000.0</td>\n    </tr>\n    <tr>\n      <th>50499</th>\n      <td>Afghanistan</td>\n      <td>153216.0</td>\n    </tr>\n    <tr>\n      <th>39258</th>\n      <td>Afghanistan</td>\n      <td>19152.0</td>\n    </tr>\n    <tr>\n      <th>58450</th>\n      <td>Afghanistan</td>\n      <td>17556.0</td>\n    </tr>\n    <tr>\n      <th>7085</th>\n      <td>Afghanistan</td>\n      <td>14364.0</td>\n    </tr>\n    <tr>\n      <th>22450</th>\n      <td>Afghanistan</td>\n      <td>7980.0</td>\n    </tr>\n    <tr>\n      <th>48436</th>\n      <td>Afghanistan</td>\n      <td>4464.0</td>\n    </tr>\n    <tr>\n      <th>10746</th>\n      <td>Afghanistan</td>\n      <td>3996.0</td>\n    </tr>\n    <tr>\n      <th>8149</th>\n      <td>Afghanistan</td>\n      <td>1596.0</td>\n    </tr>\n    <tr>\n      <th>29736</th>\n      <td>Afghanistan</td>\n      <td>1116.0</td>\n    </tr>\n    <tr>\n      <th>28638</th>\n      <td>Afghanistan</td>\n      <td>0.0</td>\n    </tr>\n    <tr>\n      <th>722</th>\n      <td>Afghanistan</td>\n      <td>0.0</td>\n    </tr>\n    <tr>\n      <th>85715</th>\n      <td>Afghanistan</td>\n      <td>NaN</td>\n    </tr>\n    <tr>\n      <th>50767</th>\n      <td>Afghanistan</td>\n      <td>NaN</td>\n    </tr>\n    <tr>\n      <th>2782</th>\n      <td>Afghanistan</td>\n      <td>NaN</td>\n    </tr>\n    <tr>\n      <th>63019</th>\n      <td>Afghanistan</td>\n      <td>NaN</td>\n    </tr>\n    <tr>\n      <th>6417</th>\n      <td>Afghanistan</td>\n      <td>NaN</td>\n    </tr>\n    <tr>\n      <th>40000</th>\n      <td>Afghanistan</td>\n      <td>NaN</td>\n    </tr>\n    <tr>\n      <th>88731</th>\n      <td>Afghanistan</td>\n      <td>NaN</td>\n    </tr>\n    <tr>\n      <th>62525</th>\n      <td>Afghanistan</td>\n      <td>NaN</td>\n    </tr>\n    <tr>\n      <th>49702</th>\n      <td>Afghanistan</td>\n      <td>NaN</td>\n    </tr>\n    <tr>\n      <th>33178</th>\n      <td>Afghanistan</td>\n      <td>NaN</td>\n    </tr>\n    <tr>\n      <th>60946</th>\n      <td>Afghanistan</td>\n      <td>NaN</td>\n    </tr>\n    <tr>\n      <th>86362</th>\n      <td>Afghanistan</td>\n      <td>NaN</td>\n    </tr>\n    <tr>\n      <th>88582</th>\n      <td>Afghanistan</td>\n      <td>NaN</td>\n    </tr>\n    <tr>\n      <th>26340</th>\n      <td>Afghanistan</td>\n      <td>NaN</td>\n    </tr>\n    <tr>\n      <th>86932</th>\n      <td>Afghanistan</td>\n      <td>NaN</td>\n    </tr>\n    <tr>\n      <th>85825</th>\n      <td>Afghanistan</td>\n      <td>NaN</td>\n    </tr>\n    <tr>\n      <th>7353</th>\n      <td>Afghanistan</td>\n      <td>NaN</td>\n    </tr>\n    <tr>\n      <th>87091</th>\n      <td>Afghanistan</td>\n      <td>NaN</td>\n    </tr>\n    <tr>\n      <th>58760</th>\n      <td>Afghanistan</td>\n      <td>NaN</td>\n    </tr>\n    <tr>\n      <th>74386</th>\n      <td>Afghanistan</td>\n      <td>NaN</td>\n    </tr>\n    <tr>\n      <th>29045</th>\n      <td>Afghanistan</td>\n      <td>NaN</td>\n    </tr>\n    <tr>\n      <th>51859</th>\n      <td>Afghanistan</td>\n      <td>NaN</td>\n    </tr>\n    <tr>\n      <th>45854</th>\n      <td>Afghanistan</td>\n      <td>NaN</td>\n    </tr>\n    <tr>\n      <th>47110</th>\n      <td>Afghanistan</td>\n      <td>NaN</td>\n    </tr>\n    <tr>\n      <th>44403</th>\n      <td>Afghanistan</td>\n      <td>NaN</td>\n    </tr>\n    <tr>\n      <th>80926</th>\n      <td>Afghanistan</td>\n      <td>NaN</td>\n    </tr>\n    <tr>\n      <th>59560</th>\n      <td>Afghanistan</td>\n      <td>NaN</td>\n    </tr>\n    <tr>\n      <th>60569</th>\n      <td>Afghanistan</td>\n      <td>NaN</td>\n    </tr>\n    <tr>\n      <th>37802</th>\n      <td>Afghanistan</td>\n      <td>NaN</td>\n    </tr>\n    <tr>\n      <th>43106</th>\n      <td>Afghanistan</td>\n      <td>NaN</td>\n    </tr>\n    <tr>\n      <th>12310</th>\n      <td>Afghanistan</td>\n      <td>NaN</td>\n    </tr>\n    <tr>\n      <th>62168</th>\n      <td>Afghanistan</td>\n      <td>NaN</td>\n    </tr>\n    <tr>\n      <th>38308</th>\n      <td>Albania</td>\n      <td>187668.0</td>\n    </tr>\n    <tr>\n      <th>3787</th>\n      <td>Albania</td>\n      <td>114550.0</td>\n    </tr>\n    <tr>\n      <th>9270</th>\n      <td>Albania</td>\n      <td>74474.0</td>\n    </tr>\n    <tr>\n      <th>6716</th>\n      <td>Albania</td>\n      <td>60000.0</td>\n    </tr>\n    <tr>\n      <th>10303</th>\n      <td>Albania</td>\n      <td>57300.0</td>\n    </tr>\n    <tr>\n      <th>66280</th>\n      <td>Albania</td>\n      <td>41244.0</td>\n    </tr>\n  </tbody>\n</table>\n</div>",
      "text/plain": "                Country  SalaryUSD\nRespondent                        \n63129       Afghanistan  1000000.0\n50499       Afghanistan   153216.0\n39258       Afghanistan    19152.0\n58450       Afghanistan    17556.0\n7085        Afghanistan    14364.0\n22450       Afghanistan     7980.0\n48436       Afghanistan     4464.0\n10746       Afghanistan     3996.0\n8149        Afghanistan     1596.0\n29736       Afghanistan     1116.0\n28638       Afghanistan        0.0\n722         Afghanistan        0.0\n85715       Afghanistan        NaN\n50767       Afghanistan        NaN\n2782        Afghanistan        NaN\n63019       Afghanistan        NaN\n6417        Afghanistan        NaN\n40000       Afghanistan        NaN\n88731       Afghanistan        NaN\n62525       Afghanistan        NaN\n49702       Afghanistan        NaN\n33178       Afghanistan        NaN\n60946       Afghanistan        NaN\n86362       Afghanistan        NaN\n88582       Afghanistan        NaN\n26340       Afghanistan        NaN\n86932       Afghanistan        NaN\n85825       Afghanistan        NaN\n7353        Afghanistan        NaN\n87091       Afghanistan        NaN\n58760       Afghanistan        NaN\n74386       Afghanistan        NaN\n29045       Afghanistan        NaN\n51859       Afghanistan        NaN\n45854       Afghanistan        NaN\n47110       Afghanistan        NaN\n44403       Afghanistan        NaN\n80926       Afghanistan        NaN\n59560       Afghanistan        NaN\n60569       Afghanistan        NaN\n37802       Afghanistan        NaN\n43106       Afghanistan        NaN\n12310       Afghanistan        NaN\n62168       Afghanistan        NaN\n38308           Albania   187668.0\n3787            Albania   114550.0\n9270            Albania    74474.0\n6716            Albania    60000.0\n10303           Albania    57300.0\n66280           Albania    41244.0"
     },
     "execution_count": 19,
     "metadata": {},
     "output_type": "execute_result"
    }
   ],
   "source": [
    "d[['Country', 'SalaryUSD']].head(50)"
   ]
  },
  {
   "cell_type": "code",
   "execution_count": 6,
   "metadata": {},
   "outputs": [],
   "source": [
    "d.rename(columns={'ConvertedComp':'SalaryUSD'}, inplace=True)"
   ]
  },
  {
   "cell_type": "code",
   "execution_count": 35,
   "metadata": {},
   "outputs": [],
   "source": [
    "d[\"Hobbyist\"] = d[\"Hobbyist\"].map({True:'Yes', False:'No'})"
   ]
  },
  {
   "cell_type": "code",
   "execution_count": 25,
   "metadata": {},
   "outputs": [],
   "source": [
    "d.sort_values(by=['Country','SalaryUSD'], ascending=[True,False], inplace=True)"
   ]
  },
  {
   "cell_type": "code",
   "execution_count": 30,
   "metadata": {},
   "outputs": [
    {
     "data": {
      "text/plain": "Hobbyist           NaN\nCompTotal      62000.0\nSalaryUSD      57287.0\nWorkWeekHrs       40.0\nCodeRevHrs         4.0\nAge               29.0\ndtype: float64"
     },
     "execution_count": 30,
     "metadata": {},
     "output_type": "execute_result"
    }
   ],
   "source": [
    "d.median()"
   ]
  },
  {
   "cell_type": "code",
   "execution_count": 32,
   "metadata": {},
   "outputs": [
    {
     "data": {
      "text/html": "<div>\n<style scoped>\n    .dataframe tbody tr th:only-of-type {\n        vertical-align: middle;\n    }\n\n    .dataframe tbody tr th {\n        vertical-align: top;\n    }\n\n    .dataframe thead th {\n        text-align: right;\n    }\n</style>\n<table border=\"1\" class=\"dataframe\">\n  <thead>\n    <tr style=\"text-align: right;\">\n      <th></th>\n      <th>CompTotal</th>\n      <th>SalaryUSD</th>\n      <th>WorkWeekHrs</th>\n      <th>CodeRevHrs</th>\n      <th>Age</th>\n    </tr>\n  </thead>\n  <tbody>\n    <tr>\n      <th>count</th>\n      <td>5.594500e+04</td>\n      <td>5.582300e+04</td>\n      <td>64503.000000</td>\n      <td>49790.000000</td>\n      <td>79210.000000</td>\n    </tr>\n    <tr>\n      <th>mean</th>\n      <td>5.519014e+11</td>\n      <td>1.271107e+05</td>\n      <td>42.127197</td>\n      <td>5.084308</td>\n      <td>30.336699</td>\n    </tr>\n    <tr>\n      <th>std</th>\n      <td>7.331926e+13</td>\n      <td>2.841523e+05</td>\n      <td>37.287610</td>\n      <td>5.513931</td>\n      <td>9.178390</td>\n    </tr>\n    <tr>\n      <th>min</th>\n      <td>0.000000e+00</td>\n      <td>0.000000e+00</td>\n      <td>1.000000</td>\n      <td>0.000000</td>\n      <td>1.000000</td>\n    </tr>\n    <tr>\n      <th>25%</th>\n      <td>2.000000e+04</td>\n      <td>2.577750e+04</td>\n      <td>40.000000</td>\n      <td>2.000000</td>\n      <td>24.000000</td>\n    </tr>\n    <tr>\n      <th>50%</th>\n      <td>6.200000e+04</td>\n      <td>5.728700e+04</td>\n      <td>40.000000</td>\n      <td>4.000000</td>\n      <td>29.000000</td>\n    </tr>\n    <tr>\n      <th>75%</th>\n      <td>1.200000e+05</td>\n      <td>1.000000e+05</td>\n      <td>44.750000</td>\n      <td>6.000000</td>\n      <td>35.000000</td>\n    </tr>\n    <tr>\n      <th>max</th>\n      <td>1.000000e+16</td>\n      <td>2.000000e+06</td>\n      <td>4850.000000</td>\n      <td>99.000000</td>\n      <td>99.000000</td>\n    </tr>\n  </tbody>\n</table>\n</div>",
      "text/plain": "          CompTotal     SalaryUSD   WorkWeekHrs    CodeRevHrs           Age\ncount  5.594500e+04  5.582300e+04  64503.000000  49790.000000  79210.000000\nmean   5.519014e+11  1.271107e+05     42.127197      5.084308     30.336699\nstd    7.331926e+13  2.841523e+05     37.287610      5.513931      9.178390\nmin    0.000000e+00  0.000000e+00      1.000000      0.000000      1.000000\n25%    2.000000e+04  2.577750e+04     40.000000      2.000000     24.000000\n50%    6.200000e+04  5.728700e+04     40.000000      4.000000     29.000000\n75%    1.200000e+05  1.000000e+05     44.750000      6.000000     35.000000\nmax    1.000000e+16  2.000000e+06   4850.000000     99.000000     99.000000"
     },
     "execution_count": 32,
     "metadata": {},
     "output_type": "execute_result"
    }
   ],
   "source": [
    "d.describe()"
   ]
  },
  {
   "cell_type": "code",
   "execution_count": 45,
   "metadata": {},
   "outputs": [
    {
     "data": {
      "text/plain": "Reddit                      14374\nYouTube                     13830\nWhatsApp                    13347\nFacebook                    13178\nTwitter                     11398\nInstagram                    6261\nI don't use social media     5554\nLinkedIn                     4501\nWeChat 微信                     667\nSnapchat                      628\nVK ВКонта́кте                 603\nWeibo 新浪微博                     56\nYouku Tudou 优酷                 21\nHello                          19\nName: SocialMedia, dtype: int64"
     },
     "execution_count": 45,
     "metadata": {},
     "output_type": "execute_result"
    }
   ],
   "source": [
    "d['SocialMedia'].value_counts()"
   ]
  },
  {
   "cell_type": "code",
   "execution_count": 44,
   "metadata": {},
   "outputs": [
    {
     "data": {
      "text/plain": "Index(['MainBranch', 'Hobbyist', 'OpenSourcer', 'OpenSource', 'Employment',\n       'Country', 'Student', 'EdLevel', 'UndergradMajor', 'EduOther',\n       'OrgSize', 'DevType', 'YearsCode', 'Age1stCode', 'YearsCodePro',\n       'CareerSat', 'JobSat', 'MgrIdiot', 'MgrMoney', 'MgrWant', 'JobSeek',\n       'LastHireDate', 'LastInt', 'FizzBuzz', 'JobFactors', 'ResumeUpdate',\n       'CurrencySymbol', 'CurrencyDesc', 'CompTotal', 'CompFreq',\n       'ConvertedComp', 'WorkWeekHrs', 'WorkPlan', 'WorkChallenge',\n       'WorkRemote', 'WorkLoc', 'ImpSyn', 'CodeRev', 'CodeRevHrs', 'UnitTests',\n       'PurchaseHow', 'PurchaseWhat', 'LanguageWorkedWith',\n       'LanguageDesireNextYear', 'DatabaseWorkedWith',\n       'DatabaseDesireNextYear', 'PlatformWorkedWith',\n       'PlatformDesireNextYear', 'WebFrameWorkedWith',\n       'WebFrameDesireNextYear', 'MiscTechWorkedWith',\n       'MiscTechDesireNextYear', 'DevEnviron', 'OpSys', 'Containers',\n       'BlockchainOrg', 'BlockchainIs', 'BetterLife', 'ITperson', 'OffOn',\n       'SocialMedia', 'Extraversion', 'ScreenName', 'SOVisit1st',\n       'SOVisitFreq', 'SOVisitTo', 'SOFindAnswer', 'SOTimeSaved',\n       'SOHowMuchTime', 'SOAccount', 'SOPartFreq', 'SOJobs', 'EntTeams',\n       'SOComm', 'WelcomeChange', 'SONewContent', 'Age', 'Gender', 'Trans',\n       'Sexuality', 'Ethnicity', 'Dependents', 'SurveyLength', 'SurveyEase'],\n      dtype='object')"
     },
     "execution_count": 44,
     "metadata": {},
     "output_type": "execute_result"
    }
   ],
   "source": [
    "d.columns"
   ]
  }
 ]
}