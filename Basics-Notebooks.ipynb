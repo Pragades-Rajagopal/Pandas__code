{
 "nbformat": 4,
 "nbformat_minor": 2,
 "metadata": {
  "language_info": {
   "name": "python",
   "codemirror_mode": {
    "name": "ipython",
    "version": 3
   },
   "version": "3.7.4-final"
  },
  "orig_nbformat": 2,
  "file_extension": ".py",
  "mimetype": "text/x-python",
  "name": "python",
  "npconvert_exporter": "python",
  "pygments_lexer": "ipython3",
  "version": 3,
  "kernelspec": {
   "name": "python37432bitc7bfd4f7fe6b4a72ad34cf4e68e47bc5",
   "display_name": "Python 3.7.4 32-bit"
  }
 },
 "cells": [
  {
   "cell_type": "code",
   "execution_count": 2,
   "metadata": {},
   "outputs": [],
   "source": [
    "people = {\n",
    "    'first' : ['Alex','Matt','John'],\n",
    "    'last' : ['Goot','Axelson','Hopkins'],\n",
    "    'email' : ['alexgoot@a.com','mattaxel@a.com','john.h@a.com']\n",
    "}\n",
    "people2 = {\n",
    "    'first' : ['Carlos', 'Lando'],\n",
    "    'last' : ['Sainz', 'Norris'],\n",
    "    'email' : ['carlos.s@b.com', 'lando.norris@b.com']\n",
    "}"
   ]
  },
  {
   "cell_type": "code",
   "execution_count": 3,
   "metadata": {},
   "outputs": [
    {
     "data": {
      "text/plain": "['alexgoot@a.com', 'mattaxel@a.com', 'john.h@a.com']"
     },
     "execution_count": 3,
     "metadata": {},
     "output_type": "execute_result"
    }
   ],
   "source": [
    "people['email']"
   ]
  },
  {
   "cell_type": "code",
   "execution_count": 4,
   "metadata": {},
   "outputs": [],
   "source": [
    "import pandas as pd"
   ]
  },
  {
   "cell_type": "code",
   "execution_count": 6,
   "metadata": {},
   "outputs": [],
   "source": [
    "d = pd.DataFrame(people)\n",
    "d2 = pd.DataFrame(people2)"
   ]
  },
  {
   "cell_type": "code",
   "execution_count": 7,
   "metadata": {},
   "outputs": [
    {
     "data": {
      "text/plain": "0    alexgoot@a.com\n1    mattaxel@a.com\n2      john.h@a.com\nName: email, dtype: object"
     },
     "execution_count": 7,
     "metadata": {},
     "output_type": "execute_result"
    }
   ],
   "source": [
    "d['email']"
   ]
  },
  {
   "cell_type": "code",
   "execution_count": 7,
   "metadata": {},
   "outputs": [
    {
     "data": {
      "text/plain": "pandas.core.series.Series"
     },
     "execution_count": 7,
     "metadata": {},
     "output_type": "execute_result"
    }
   ],
   "source": [
    "type(d['email'])"
   ]
  },
  {
   "cell_type": "code",
   "execution_count": 8,
   "metadata": {},
   "outputs": [
    {
     "data": {
      "text/html": "<div>\n<style scoped>\n    .dataframe tbody tr th:only-of-type {\n        vertical-align: middle;\n    }\n\n    .dataframe tbody tr th {\n        vertical-align: top;\n    }\n\n    .dataframe thead th {\n        text-align: right;\n    }\n</style>\n<table border=\"1\" class=\"dataframe\">\n  <thead>\n    <tr style=\"text-align: right;\">\n      <th></th>\n      <th>last</th>\n      <th>email</th>\n    </tr>\n  </thead>\n  <tbody>\n    <tr>\n      <th>0</th>\n      <td>Goot</td>\n      <td>alexgoot@a.com</td>\n    </tr>\n    <tr>\n      <th>1</th>\n      <td>Axelson</td>\n      <td>mattaxel@a.com</td>\n    </tr>\n    <tr>\n      <th>2</th>\n      <td>Hopkins</td>\n      <td>john.h@a.com</td>\n    </tr>\n  </tbody>\n</table>\n</div>",
      "text/plain": "      last           email\n0     Goot  alexgoot@a.com\n1  Axelson  mattaxel@a.com\n2  Hopkins    john.h@a.com"
     },
     "execution_count": 8,
     "metadata": {},
     "output_type": "execute_result"
    }
   ],
   "source": [
    "d[['last', 'email']]"
   ]
  },
  {
   "cell_type": "code",
   "execution_count": 9,
   "metadata": {},
   "outputs": [
    {
     "data": {
      "text/plain": "first              Alex\nlast               Goot\nemail    alexgoot@a.com\nName: 0, dtype: object"
     },
     "execution_count": 9,
     "metadata": {},
     "output_type": "execute_result"
    }
   ],
   "source": [
    "d.iloc[0]"
   ]
  },
  {
   "cell_type": "code",
   "execution_count": 10,
   "metadata": {},
   "outputs": [],
   "source": [
    "d.set_index('email', inplace=True)"
   ]
  },
  {
   "cell_type": "code",
   "execution_count": 11,
   "metadata": {},
   "outputs": [
    {
     "data": {
      "text/html": "<div>\n<style scoped>\n    .dataframe tbody tr th:only-of-type {\n        vertical-align: middle;\n    }\n\n    .dataframe tbody tr th {\n        vertical-align: top;\n    }\n\n    .dataframe thead th {\n        text-align: right;\n    }\n</style>\n<table border=\"1\" class=\"dataframe\">\n  <thead>\n    <tr style=\"text-align: right;\">\n      <th></th>\n      <th>first</th>\n      <th>last</th>\n    </tr>\n    <tr>\n      <th>email</th>\n      <th></th>\n      <th></th>\n    </tr>\n  </thead>\n  <tbody>\n    <tr>\n      <th>alexgoot@a.com</th>\n      <td>Alex</td>\n      <td>Goot</td>\n    </tr>\n    <tr>\n      <th>mattaxel@a.com</th>\n      <td>Matt</td>\n      <td>Axelson</td>\n    </tr>\n    <tr>\n      <th>john.h@a.com</th>\n      <td>John</td>\n      <td>Hopkins</td>\n    </tr>\n  </tbody>\n</table>\n</div>",
      "text/plain": "               first     last\nemail                        \nalexgoot@a.com  Alex     Goot\nmattaxel@a.com  Matt  Axelson\njohn.h@a.com    John  Hopkins"
     },
     "execution_count": 11,
     "metadata": {},
     "output_type": "execute_result"
    }
   ],
   "source": [
    "d"
   ]
  },
  {
   "cell_type": "code",
   "execution_count": 12,
   "metadata": {},
   "outputs": [
    {
     "data": {
      "text/plain": "Index(['alexgoot@a.com', 'mattaxel@a.com', 'john.h@a.com'], dtype='object', name='email')"
     },
     "execution_count": 12,
     "metadata": {},
     "output_type": "execute_result"
    }
   ],
   "source": [
    "d.index"
   ]
  },
  {
   "cell_type": "code",
   "execution_count": 13,
   "metadata": {},
   "outputs": [
    {
     "data": {
      "text/plain": "'Alex'"
     },
     "execution_count": 13,
     "metadata": {},
     "output_type": "execute_result"
    }
   ],
   "source": [
    "d.loc['alexgoot@a.com', 'first']"
   ]
  },
  {
   "cell_type": "code",
   "execution_count": 14,
   "metadata": {},
   "outputs": [
    {
     "data": {
      "text/plain": "first    Alex\nlast     Goot\nName: alexgoot@a.com, dtype: object"
     },
     "execution_count": 14,
     "metadata": {},
     "output_type": "execute_result"
    }
   ],
   "source": [
    "d.iloc[0]"
   ]
  },
  {
   "cell_type": "code",
   "execution_count": 15,
   "metadata": {},
   "outputs": [
    {
     "data": {
      "text/html": "<div>\n<style scoped>\n    .dataframe tbody tr th:only-of-type {\n        vertical-align: middle;\n    }\n\n    .dataframe tbody tr th {\n        vertical-align: top;\n    }\n\n    .dataframe thead th {\n        text-align: right;\n    }\n</style>\n<table border=\"1\" class=\"dataframe\">\n  <thead>\n    <tr style=\"text-align: right;\">\n      <th></th>\n      <th>email</th>\n      <th>first</th>\n      <th>last</th>\n    </tr>\n  </thead>\n  <tbody>\n    <tr>\n      <th>0</th>\n      <td>alexgoot@a.com</td>\n      <td>Alex</td>\n      <td>Goot</td>\n    </tr>\n    <tr>\n      <th>1</th>\n      <td>mattaxel@a.com</td>\n      <td>Matt</td>\n      <td>Axelson</td>\n    </tr>\n    <tr>\n      <th>2</th>\n      <td>john.h@a.com</td>\n      <td>John</td>\n      <td>Hopkins</td>\n    </tr>\n  </tbody>\n</table>\n</div>",
      "text/plain": "            email first     last\n0  alexgoot@a.com  Alex     Goot\n1  mattaxel@a.com  Matt  Axelson\n2    john.h@a.com  John  Hopkins"
     },
     "execution_count": 15,
     "metadata": {},
     "output_type": "execute_result"
    }
   ],
   "source": [
    "d.reset_index(inplace=True)\n",
    "d"
   ]
  },
  {
   "cell_type": "code",
   "execution_count": 16,
   "metadata": {},
   "outputs": [],
   "source": [
    "# d['first'] == 'Alex'\n",
    "fil = ((d['first'] == 'Alex') | (d['last'] == 'Axelson'))"
   ]
  },
  {
   "cell_type": "code",
   "execution_count": 17,
   "metadata": {},
   "outputs": [
    {
     "data": {
      "text/plain": "0     True\n1     True\n2    False\ndtype: bool"
     },
     "execution_count": 17,
     "metadata": {},
     "output_type": "execute_result"
    }
   ],
   "source": [
    "fil"
   ]
  },
  {
   "cell_type": "code",
   "execution_count": 18,
   "metadata": {},
   "outputs": [
    {
     "data": {
      "text/plain": "0    alexgoot@a.com\n1    mattaxel@a.com\nName: email, dtype: object"
     },
     "execution_count": 18,
     "metadata": {},
     "output_type": "execute_result"
    }
   ],
   "source": [
    "d.loc[fil, 'email']"
   ]
  },
  {
   "cell_type": "code",
   "execution_count": 19,
   "metadata": {},
   "outputs": [],
   "source": [
    "d.columns = ['first_name','last_name','email']"
   ]
  },
  {
   "cell_type": "code",
   "execution_count": 20,
   "metadata": {},
   "outputs": [],
   "source": [
    "d.columns = [x.lower() for x in d.columns]"
   ]
  },
  {
   "cell_type": "code",
   "execution_count": 21,
   "metadata": {},
   "outputs": [],
   "source": [
    "d.columns = d.columns.str.replace(' ', '_')"
   ]
  },
  {
   "cell_type": "code",
   "execution_count": 22,
   "metadata": {},
   "outputs": [],
   "source": [
    "d.rename(columns={'first_name':'first', 'last_name':'last'}, inplace=True)"
   ]
  },
  {
   "cell_type": "code",
   "execution_count": 23,
   "metadata": {},
   "outputs": [],
   "source": [
    "d.loc[2, ['last','email']] = ['Hopkins', 'john.h@a.com']"
   ]
  },
  {
   "cell_type": "code",
   "execution_count": 24,
   "metadata": {},
   "outputs": [],
   "source": [
    "fil = d['email'] == 'john.h@a.com'\n",
    "d.loc[fil, 'last'] = 'Hopkins'"
   ]
  },
  {
   "cell_type": "code",
   "execution_count": 25,
   "metadata": {},
   "outputs": [],
   "source": [
    "d['first'] = d['first'].str.upper()"
   ]
  },
  {
   "cell_type": "code",
   "execution_count": 26,
   "metadata": {},
   "outputs": [
    {
     "data": {
      "text/plain": "0     4\n1     7\n2    12\nName: email, dtype: int64"
     },
     "execution_count": 26,
     "metadata": {},
     "output_type": "execute_result"
    }
   ],
   "source": [
    "d['email'].apply(len)"
   ]
  },
  {
   "cell_type": "code",
   "execution_count": 27,
   "metadata": {},
   "outputs": [],
   "source": [
    "def update_email(email):\n",
    "    return email.upper()"
   ]
  },
  {
   "cell_type": "code",
   "execution_count": 41,
   "metadata": {},
   "outputs": [],
   "source": [
    "d['email'] =  d['email'].apply(update_email)"
   ]
  },
  {
   "cell_type": "code",
   "execution_count": 43,
   "metadata": {},
   "outputs": [],
   "source": [
    "d['email'] = d['email'].apply(lambda x : x.lower())"
   ]
  },
  {
   "cell_type": "code",
   "execution_count": 31,
   "metadata": {},
   "outputs": [
    {
     "data": {
      "text/plain": "0    3\n1    3\n2    3\ndtype: int64"
     },
     "execution_count": 31,
     "metadata": {},
     "output_type": "execute_result"
    }
   ],
   "source": [
    "d.apply(len, axis='columns')"
   ]
  },
  {
   "cell_type": "code",
   "execution_count": 44,
   "metadata": {},
   "outputs": [
    {
     "data": {
      "text/plain": "first              Alex\nlast            Axelson\nemail    alexgoot@a.com\ndtype: object"
     },
     "execution_count": 44,
     "metadata": {},
     "output_type": "execute_result"
    }
   ],
   "source": [
    "d.apply(pd.Series.min)"
   ]
  },
  {
   "cell_type": "code",
   "execution_count": 47,
   "metadata": {},
   "outputs": [
    {
     "data": {
      "text/plain": "first              Matt\nlast            Hopkins\nemail    mattaxel@a.com\ndtype: object"
     },
     "execution_count": 47,
     "metadata": {},
     "output_type": "execute_result"
    }
   ],
   "source": [
    "d.apply(lambda x : x.max())"
   ]
  },
  {
   "cell_type": "code",
   "execution_count": 49,
   "metadata": {},
   "outputs": [
    {
     "data": {
      "text/html": "<div>\n<style scoped>\n    .dataframe tbody tr th:only-of-type {\n        vertical-align: middle;\n    }\n\n    .dataframe tbody tr th {\n        vertical-align: top;\n    }\n\n    .dataframe thead th {\n        text-align: right;\n    }\n</style>\n<table border=\"1\" class=\"dataframe\">\n  <thead>\n    <tr style=\"text-align: right;\">\n      <th></th>\n      <th>first</th>\n      <th>last</th>\n      <th>email</th>\n    </tr>\n  </thead>\n  <tbody>\n    <tr>\n      <th>0</th>\n      <td>4</td>\n      <td>4</td>\n      <td>14</td>\n    </tr>\n    <tr>\n      <th>1</th>\n      <td>4</td>\n      <td>7</td>\n      <td>14</td>\n    </tr>\n    <tr>\n      <th>2</th>\n      <td>4</td>\n      <td>7</td>\n      <td>12</td>\n    </tr>\n  </tbody>\n</table>\n</div>",
      "text/plain": "   first  last  email\n0      4     4     14\n1      4     7     14\n2      4     7     12"
     },
     "execution_count": 49,
     "metadata": {},
     "output_type": "execute_result"
    }
   ],
   "source": [
    "d.applymap(len)"
   ]
  },
  {
   "cell_type": "code",
   "execution_count": 52,
   "metadata": {},
   "outputs": [
    {
     "data": {
      "text/plain": "0    Chris\n1      Tim\n2      NaN\nName: first, dtype: object"
     },
     "execution_count": 52,
     "metadata": {},
     "output_type": "execute_result"
    }
   ],
   "source": [
    "d['first'].map({'Alex':'Chris', 'Matt':'Tim'})"
   ]
  },
  {
   "cell_type": "code",
   "execution_count": 54,
   "metadata": {},
   "outputs": [
    {
     "data": {
      "text/plain": "0    Chris\n1      Tim\n2     John\nName: first, dtype: object"
     },
     "execution_count": 54,
     "metadata": {},
     "output_type": "execute_result"
    }
   ],
   "source": [
    "d['first'].replace({'Alex':'Chris', 'Matt':'Tim'})"
   ]
  },
  {
   "cell_type": "code",
   "execution_count": 40,
   "metadata": {},
   "outputs": [],
   "source": [
    "d['Full_name'] = d['first']+ ' ' + d['last']"
   ]
  },
  {
   "cell_type": "code",
   "execution_count": 68,
   "metadata": {},
   "outputs": [],
   "source": [
    "d[['first', 'last']]= d['Full_name'].str.split(' ', expand=True)"
   ]
  },
  {
   "cell_type": "code",
   "execution_count": 29,
   "metadata": {},
   "outputs": [],
   "source": [
    "d = d.append({'first':'Lucy', 'last':'Goot', 'email':'lucy.g@b.com'}, ignore_index=True)"
   ]
  },
  {
   "cell_type": "code",
   "execution_count": 11,
   "metadata": {},
   "outputs": [],
   "source": [
    "d = d.append(d2, ignore_index=True)"
   ]
  },
  {
   "cell_type": "code",
   "execution_count": 25,
   "metadata": {},
   "outputs": [
    {
     "data": {
      "text/html": "<div>\n<style scoped>\n    .dataframe tbody tr th:only-of-type {\n        vertical-align: middle;\n    }\n\n    .dataframe tbody tr th {\n        vertical-align: top;\n    }\n\n    .dataframe thead th {\n        text-align: right;\n    }\n</style>\n<table border=\"1\" class=\"dataframe\">\n  <thead>\n    <tr style=\"text-align: right;\">\n      <th></th>\n      <th>first</th>\n      <th>last</th>\n      <th>email</th>\n      <th>Full_name</th>\n    </tr>\n  </thead>\n  <tbody>\n    <tr>\n      <th>0</th>\n      <td>Alex</td>\n      <td>Goot</td>\n      <td>alexgoot@a.com</td>\n      <td>Alex Goot</td>\n    </tr>\n    <tr>\n      <th>1</th>\n      <td>Matt</td>\n      <td>Axelson</td>\n      <td>mattaxel@a.com</td>\n      <td>Matt Axelson</td>\n    </tr>\n    <tr>\n      <th>2</th>\n      <td>John</td>\n      <td>Hopkins</td>\n      <td>john.h@a.com</td>\n      <td>John Hopkins</td>\n    </tr>\n    <tr>\n      <th>3</th>\n      <td>Carlos</td>\n      <td>Sainz</td>\n      <td>carlos.s@b.com</td>\n      <td>Carlos Sainz</td>\n    </tr>\n    <tr>\n      <th>4</th>\n      <td>Lando</td>\n      <td>Norris</td>\n      <td>lando.norris@b.com</td>\n      <td>Lando Norris</td>\n    </tr>\n  </tbody>\n</table>\n</div>",
      "text/plain": "    first     last               email     Full_name\n0    Alex     Goot      alexgoot@a.com     Alex Goot\n1    Matt  Axelson      mattaxel@a.com  Matt Axelson\n2    John  Hopkins        john.h@a.com  John Hopkins\n3  Carlos    Sainz      carlos.s@b.com  Carlos Sainz\n4   Lando   Norris  lando.norris@b.com  Lando Norris"
     },
     "execution_count": 25,
     "metadata": {},
     "output_type": "execute_result"
    }
   ],
   "source": [
    "a = d['first'] == 'Lucy'\n",
    "d.drop(index=d[a].index)"
   ]
  },
  {
   "cell_type": "code",
   "execution_count": 44,
   "metadata": {},
   "outputs": [],
   "source": [
    "d.sort_values(by=['last', 'first'], ascending=[False, True], inplace=True)"
   ]
  },
  {
   "cell_type": "code",
   "execution_count": 49,
   "metadata": {},
   "outputs": [
    {
     "data": {
      "text/html": "<div>\n<style scoped>\n    .dataframe tbody tr th:only-of-type {\n        vertical-align: middle;\n    }\n\n    .dataframe tbody tr th {\n        vertical-align: top;\n    }\n\n    .dataframe thead th {\n        text-align: right;\n    }\n</style>\n<table border=\"1\" class=\"dataframe\">\n  <thead>\n    <tr style=\"text-align: right;\">\n      <th></th>\n      <th>first</th>\n      <th>last</th>\n      <th>email</th>\n      <th>Full_name</th>\n    </tr>\n  </thead>\n  <tbody>\n    <tr>\n      <th>3</th>\n      <td>Carlos</td>\n      <td>Sainz</td>\n      <td>carlos.s@b.com</td>\n      <td>Carlos Sainz</td>\n    </tr>\n    <tr>\n      <th>4</th>\n      <td>Lando</td>\n      <td>Norris</td>\n      <td>lando.norris@b.com</td>\n      <td>Lando Norris</td>\n    </tr>\n    <tr>\n      <th>2</th>\n      <td>John</td>\n      <td>Hopkins</td>\n      <td>john.h@a.com</td>\n      <td>John Hopkins</td>\n    </tr>\n    <tr>\n      <th>0</th>\n      <td>Alex</td>\n      <td>Goot</td>\n      <td>alexgoot@a.com</td>\n      <td>Alex Goot</td>\n    </tr>\n    <tr>\n      <th>6</th>\n      <td>Lucy</td>\n      <td>Goot</td>\n      <td>lucy.g@b.com</td>\n      <td>Lucy Goot</td>\n    </tr>\n    <tr>\n      <th>1</th>\n      <td>Matt</td>\n      <td>Axelson</td>\n      <td>mattaxel@a.com</td>\n      <td>Matt Axelson</td>\n    </tr>\n  </tbody>\n</table>\n</div>",
      "text/plain": "    first     last               email     Full_name\n3  Carlos    Sainz      carlos.s@b.com  Carlos Sainz\n4   Lando   Norris  lando.norris@b.com  Lando Norris\n2    John  Hopkins        john.h@a.com  John Hopkins\n0    Alex     Goot      alexgoot@a.com     Alex Goot\n6    Lucy     Goot        lucy.g@b.com     Lucy Goot\n1    Matt  Axelson      mattaxel@a.com  Matt Axelson"
     },
     "execution_count": 49,
     "metadata": {},
     "output_type": "execute_result"
    }
   ],
   "source": [
    "d"
   ]
  }
 ]
}